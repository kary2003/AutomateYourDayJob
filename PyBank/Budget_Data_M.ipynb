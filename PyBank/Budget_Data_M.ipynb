{
 "cells": [
  {
   "cell_type": "code",
   "execution_count": 1,
   "metadata": {},
   "outputs": [
    {
     "name": "stdout",
     "output_type": "stream",
     "text": [
      "C:\\Users\\clear\\Fintech\\python_homework\\PyBank\n"
     ]
    }
   ],
   "source": [
    "# import Path and csv library\n",
    "from pathlib import Path\n",
    "import csv\n",
    "# access Path\n",
    "print(Path.cwd())"
   ]
  },
  {
   "cell_type": "code",
   "execution_count": 2,
   "metadata": {},
   "outputs": [],
   "source": [
    "# set filepath\n",
    "filepath = (\"budget_data.csv\")"
   ]
  },
  {
   "cell_type": "code",
   "execution_count": 3,
   "metadata": {},
   "outputs": [],
   "source": [
    "# initialize  variables to hold months, profit_loss and changes\n",
    "months = []\n",
    "profit_loss = []\n",
    "changes = []\n",
    "\n",
    "# initialize variables\n",
    "previous_month = 0\n",
    "count = 0\n",
    "    # open file for read and write\n",
    "with open(filepath, 'r+') as csvfile:\n",
    "    # Iterate through the data.\n",
    "    csvreader = csv.reader(csvfile, delimiter=',')\n",
    "      # skip header\n",
    "    header = next(csvreader)\n",
    "    #print(header)\n",
    "    \n",
    "    # read each row of data after the header\n",
    "    for row in csvreader:\n",
    "        # sum the count variables \n",
    "        count = count + 1\n",
    "        \n",
    "    # add elements to end of list\n",
    "        months.append(row[0])\n",
    "        profit_loss.append(int(row[1]))\n",
    "\n",
    "        changes.append(int(row[1]) - previous_month)\n",
    "        previous_month = int(row[1])\n",
    "        \n",
    "# delete index 0 from changes to calculate average\n",
    "del changes[0]   \n",
    "# copy month to get total count \n",
    "months2 = months.copy()\n",
    "# delet index [0] to get correct date for max and minimum change\n",
    "del months2[0]\n",
    "\n",
    "\n",
    "#calculate Max changes using math function\n",
    "max_index = changes.index(max(changes))\n",
    "# calculate average change\n",
    "average_change = sum(changes) / len(changes)\n",
    "# calculate minimum change using math function \n",
    "min_index = changes.index(min(changes))\n"
   ]
  },
  {
   "cell_type": "code",
   "execution_count": 4,
   "metadata": {},
   "outputs": [
    {
     "name": "stdout",
     "output_type": "stream",
     "text": [
      "\n",
      "Financial Analysis\n",
      "----------------------------\n",
      "Total Months: 86\n",
      "Total: $ 38382578\n",
      "Average  Change: $ -2315.12\n",
      "Greatest Increase (1926159, 'Feb-2012')\n",
      "Greatest Decrease (-2196167, 'Sep-2013')\n",
      "\n"
     ]
    }
   ],
   "source": [
    "Budget_Data = f'''\n",
    "Financial Analysis\n",
    "----------------------------\n",
    "Total Months: {len(months)}\n",
    "Total: $ {sum(profit_loss)}\n",
    "Average  Change: $ {average_change:.2f}\n",
    "Greatest Increase {max(changes), months2[max_index]}\n",
    "Greatest Decrease {min(changes), months2[min_index]}\n",
    "'''\n",
    "print(Budget_Data)"
   ]
  },
  {
   "cell_type": "code",
   "execution_count": null,
   "metadata": {},
   "outputs": [],
   "source": []
  },
  {
   "cell_type": "code",
   "execution_count": null,
   "metadata": {},
   "outputs": [],
   "source": []
  }
 ],
 "metadata": {
  "kernelspec": {
   "display_name": "Python 3",
   "language": "python",
   "name": "python3"
  },
  "language_info": {
   "codemirror_mode": {
    "name": "ipython",
    "version": 3
   },
   "file_extension": ".py",
   "mimetype": "text/x-python",
   "name": "python",
   "nbconvert_exporter": "python",
   "pygments_lexer": "ipython3",
   "version": "3.8.3"
  }
 },
 "nbformat": 4,
 "nbformat_minor": 4
}
