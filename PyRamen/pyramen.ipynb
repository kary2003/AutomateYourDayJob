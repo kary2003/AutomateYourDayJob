{
 "cells": [
  {
   "cell_type": "code",
   "execution_count": 6,
   "metadata": {},
   "outputs": [],
   "source": [
    "# import libraries\n",
    "import csv\n",
    "from pathlib import Path"
   ]
  },
  {
   "cell_type": "code",
   "execution_count": 7,
   "metadata": {},
   "outputs": [],
   "source": [
    "# set file paths for menu_data.csv & sales_data.csv\n",
    "menu_filepath = Path('Resources/menu_data.csv')\n",
    "sales_filepath = Path('Resources/sales_data.csv')"
   ]
  },
  {
   "cell_type": "code",
   "execution_count": 8,
   "metadata": {},
   "outputs": [],
   "source": [
    "# Initialize list objects to hold our menu and sales data\n",
    "header = []\n",
    "menu_list = {}\n",
    "sales_list = []"
   ]
  },
  {
   "cell_type": "code",
   "execution_count": 11,
   "metadata": {},
   "outputs": [
    {
     "name": "stdout",
     "output_type": "stream",
     "text": [
      "<_csv.reader object at 0x000001B6C78959A0>\n",
      "<_csv.reader object at 0x000001B6C78959A0>\n",
      "<_csv.reader object at 0x000001B6C78959A0>\n",
      "<_csv.reader object at 0x000001B6C78959A0>\n",
      "<_csv.reader object at 0x000001B6C78959A0>\n",
      "<_csv.reader object at 0x000001B6C78959A0>\n",
      "<_csv.reader object at 0x000001B6C78959A0>\n",
      "<_csv.reader object at 0x000001B6C78959A0>\n",
      "<_csv.reader object at 0x000001B6C78959A0>\n",
      "<_csv.reader object at 0x000001B6C78959A0>\n",
      "<_csv.reader object at 0x000001B6C78959A0>\n",
      "<_csv.reader object at 0x000001B6C78959A0>\n",
      "<_csv.reader object at 0x000001B6C78959A0>\n",
      "<_csv.reader object at 0x000001B6C78959A0>\n",
      "<_csv.reader object at 0x000001B6C78959A0>\n",
      "<_csv.reader object at 0x000001B6C78959A0>\n",
      "<_csv.reader object at 0x000001B6C78959A0>\n",
      "<_csv.reader object at 0x000001B6C78959A0>\n",
      "<_csv.reader object at 0x000001B6C78959A0>\n",
      "<_csv.reader object at 0x000001B6C78959A0>\n",
      "<_csv.reader object at 0x000001B6C78959A0>\n",
      "<_csv.reader object at 0x000001B6C78959A0>\n",
      "<_csv.reader object at 0x000001B6C78959A0>\n",
      "<_csv.reader object at 0x000001B6C78959A0>\n",
      "<_csv.reader object at 0x000001B6C78959A0>\n",
      "<_csv.reader object at 0x000001B6C78959A0>\n",
      "<_csv.reader object at 0x000001B6C78959A0>\n",
      "<_csv.reader object at 0x000001B6C78959A0>\n",
      "<_csv.reader object at 0x000001B6C78959A0>\n",
      "<_csv.reader object at 0x000001B6C78959A0>\n",
      "<_csv.reader object at 0x000001B6C78959A0>\n",
      "<_csv.reader object at 0x000001B6C78959A0>\n"
     ]
    }
   ],
   "source": [
    "# Initialize dict object to hold our key-value pairs of items and metrics\n",
    "report = {}\n",
    "\n",
    "# Read in the menu data into the menu list\n",
    "with open (menu_filepath, 'r') as csvfile:\n",
    "    menu = csv.reader(csvfile, delimiter=',')\n",
    "    header = next(csvfile)\n",
    "# Loop over every row in the menu list object\n",
    "    for rows in menu:\n",
    "        \n",
    "\n"
   ]
  },
  {
   "cell_type": "code",
   "execution_count": null,
   "metadata": {},
   "outputs": [],
   "source": []
  },
  {
   "cell_type": "code",
   "execution_count": null,
   "metadata": {},
   "outputs": [],
   "source": []
  },
  {
   "cell_type": "code",
   "execution_count": null,
   "metadata": {},
   "outputs": [],
   "source": []
  }
 ],
 "metadata": {
  "kernelspec": {
   "display_name": "Python 3",
   "language": "python",
   "name": "python3"
  },
  "language_info": {
   "codemirror_mode": {
    "name": "ipython",
    "version": 3
   },
   "file_extension": ".py",
   "mimetype": "text/x-python",
   "name": "python",
   "nbconvert_exporter": "python",
   "pygments_lexer": "ipython3",
   "version": "3.8.3"
  }
 },
 "nbformat": 4,
 "nbformat_minor": 4
}
