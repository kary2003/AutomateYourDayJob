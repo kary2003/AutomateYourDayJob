{
 "cells": [
  {
   "cell_type": "code",
   "execution_count": 1,
   "metadata": {},
   "outputs": [],
   "source": [
    "import csv\n",
    "from pathlib import Path"
   ]
  },
  {
   "cell_type": "code",
   "execution_count": 2,
   "metadata": {},
   "outputs": [],
   "source": [
    "# csv file name \n",
    "menu_filepath = Path('Resources/menu_data.csv') \n",
    "sales_filepath = Path('Resources/sales_data.csv')"
   ]
  },
  {
   "cell_type": "code",
   "execution_count": 3,
   "metadata": {},
   "outputs": [],
   "source": [
    "# Initilize needed variables, dict or lists.\n",
    "header = []\n",
    "menu_data = {}\n",
    "sales_data = []\n",
    "report = {}\n",
    "\n",
    "with open(\"Resources/menu_data.csv\", 'r') as csvfile:\n",
    "    \n",
    "# creating a csv reader object \n",
    "    csvreader = csv.reader(csvfile) \n",
    "    header = next(csvreader) \n",
    "    for row in csvreader: \n",
    "        menu_data[row[0]] = [row[1], row[2], row[3],row[4]]"
   ]
  },
  {
   "cell_type": "code",
   "execution_count": 4,
   "metadata": {},
   "outputs": [],
   "source": [
    "with open(\"Resources/sales_data.csv\", 'r') as csvfile:\n",
    "    \n",
    "# creating a csv reader object \n",
    "    csvreader = csv.reader(csvfile) \n",
    "    header = next(csvreader) \n",
    "    for row in csvreader: \n",
    "        sales_data.append([row[0], row[1], row[2], row[3], row[4]])"
   ]
  },
  {
   "cell_type": "code",
   "execution_count": 5,
   "metadata": {},
   "outputs": [],
   "source": [
    "# Loop through every row in the sales data\n",
    "for sale in sales_data:\n",
    "    \n",
    "    quantity = int(sale[3])\n",
    "    sales_item = sale[4]\n",
    "\n",
    "#Initialize the product report entry to 0 if not already in the dictionary\n",
    "    if report.get(sales_item)==None:\n",
    "        report[sales_item] = {\"01-count\": 0, \n",
    "                              \"02-revenue\": 0, \n",
    "                              \"03-cogs\": 0, \n",
    "                              \"04-profit\": 0}"
   ]
  },
  {
   "cell_type": "code",
   "execution_count": 6,
   "metadata": {},
   "outputs": [],
   "source": [
    "    \n",
    "# Get the menu_data details for the sale_item\n",
    "    menu = menu_data[sales_item]\n",
    "    \n",
    "# If sale item present in the menu_data, calculate the sale item's report\n",
    "    if menu!=None:\n",
    "        price = float(menu[2])\n",
    "        cost = float(menu[3])\n",
    "        profit = quantity * (price - cost) \n",
    "        report[sales_item][\"01-count\"] += quantity\n",
    "        report[sales_item][\"02-revenue\"] += price * quantity\n",
    "        report[sales_item][\"03-cogs\"] += cost * quantity\n",
    "        report[sales_item][\"04-profit\"] += profit * quantity\n",
    "    else:\n",
    "        print(f'{sales_item} does not contains data')"
   ]
  },
  {
   "cell_type": "code",
   "execution_count": 7,
   "metadata": {},
   "outputs": [
    {
     "name": "stdout",
     "output_type": "stream",
     "text": [
      "spicy miso ramen : {'01-count': 2, '02-revenue': 24.0, '03-cogs': 10.0, '04-profit': 28.0}\n",
      "tori paitan ramen : {'01-count': 0, '02-revenue': 0, '03-cogs': 0, '04-profit': 0}\n",
      "truffle butter ramen : {'01-count': 0, '02-revenue': 0, '03-cogs': 0, '04-profit': 0}\n",
      "tonkotsu ramen : {'01-count': 0, '02-revenue': 0, '03-cogs': 0, '04-profit': 0}\n",
      "vegetarian spicy miso : {'01-count': 0, '02-revenue': 0, '03-cogs': 0, '04-profit': 0}\n",
      "shio ramen : {'01-count': 0, '02-revenue': 0, '03-cogs': 0, '04-profit': 0}\n",
      "miso crab ramen : {'01-count': 0, '02-revenue': 0, '03-cogs': 0, '04-profit': 0}\n",
      "nagomi shoyu : {'01-count': 0, '02-revenue': 0, '03-cogs': 0, '04-profit': 0}\n",
      "soft-shell miso crab ramen : {'01-count': 0, '02-revenue': 0, '03-cogs': 0, '04-profit': 0}\n",
      "burnt garlic tonkotsu ramen : {'01-count': 0, '02-revenue': 0, '03-cogs': 0, '04-profit': 0}\n",
      "vegetarian curry + king trumpet mushroom ramen : {'01-count': 0, '02-revenue': 0, '03-cogs': 0, '04-profit': 0}\n"
     ]
    }
   ],
   "source": [
    "# Print the aggregated product report\n",
    "for sales_item in report:\n",
    "    print(f'{sales_item} : {report[sales_item]}')"
   ]
  },
  {
   "cell_type": "code",
   "execution_count": 8,
   "metadata": {},
   "outputs": [],
   "source": [
    "# output file with metrics\n",
    "output_path = Path(\"PyRamen.txt\")\n",
    "\n",
    "with open(output_path, 'w') as file:\n",
    "    file.write(\"This is the financial report for PyRamen.\\n\")\n",
    "    for key in report:\n",
    "        file.write(f\"{key} {report[key]} \\n\")"
   ]
  },
  {
   "cell_type": "code",
   "execution_count": null,
   "metadata": {},
   "outputs": [],
   "source": []
  }
 ],
 "metadata": {
  "kernelspec": {
   "display_name": "Python 3",
   "language": "python",
   "name": "python3"
  },
  "language_info": {
   "codemirror_mode": {
    "name": "ipython",
    "version": 3
   },
   "file_extension": ".py",
   "mimetype": "text/x-python",
   "name": "python",
   "nbconvert_exporter": "python",
   "pygments_lexer": "ipython3",
   "version": "3.7.7"
  }
 },
 "nbformat": 4,
 "nbformat_minor": 4
}
